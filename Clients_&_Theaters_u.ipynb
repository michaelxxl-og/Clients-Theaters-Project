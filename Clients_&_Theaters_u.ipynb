{
 "cells": [
  {
   "cell_type": "markdown",
   "id": "22e5921a-94af-4e1b-a44e-b3d7d58ad004",
   "metadata": {},
   "source": [
    "# SIC Capstone project"
   ]
  },
  {
   "cell_type": "markdown",
   "id": "9d51b618-8e4c-4245-bba5-82822842ec3d",
   "metadata": {},
   "source": [
    "## Class hierarchy"
   ]
  },
  {
   "cell_type": "markdown",
   "id": "0d7dae18-c1a2-4e16-82e6-fe6f1ac35d84",
   "metadata": {},
   "source": [
    "### Agent"
   ]
  },
  {
   "cell_type": "code",
   "execution_count": 4,
   "id": "8e1c0513-c66b-4ebf-bbcc-e4e138f8c22a",
   "metadata": {},
   "outputs": [],
   "source": [
    "class Agent:\n",
    "    def __init__(self, name):\n",
    "        self.name = name\n",
    "\n",
    "    def describe(self):\n",
    "        return f'{self.name}'"
   ]
  },
  {
   "cell_type": "markdown",
   "id": "a75399fc-600f-49fd-98e8-8cb405de1c50",
   "metadata": {},
   "source": [
    "### Client"
   ]
  },
  {
   "cell_type": "code",
   "execution_count": 6,
   "id": "5b99328a-b135-4e06-874e-9c584515e9d0",
   "metadata": {},
   "outputs": [],
   "source": [
    "class Client(Agent):\n",
    "    def __init__(self, name):\n",
    "        super().__init__(name)"
   ]
  },
  {
   "cell_type": "markdown",
   "id": "3e40b45d-27cf-490f-b1c5-afea57b07ef8",
   "metadata": {},
   "source": [
    "### Theater\n"
   ]
  },
  {
   "cell_type": "code",
   "execution_count": 8,
   "id": "06bbc7a5-547c-4e88-b8b9-03cebe698295",
   "metadata": {},
   "outputs": [],
   "source": [
    "# TICKET CLASS \n",
    "from collections import deque # https://docs.python.org/3/library/collections.html#collections.deque\n",
    "\n",
    "class TicketQueue:\n",
    "    def __init__(self):\n",
    "        self.queue = deque() \n",
    "\n",
    "    def enqueue(self, client_name):\n",
    "        self.queue.append(client_name)\n",
    "        print(f'Client {client_name} added to the ticket queue.')\n",
    "\n",
    "    def dequeue(self):\n",
    "        if self.queue:\n",
    "            client_name = self.queue.popleft()\n",
    "            print(f'Client {client_name} removed from the ticket queue.')\n",
    "            return client_name\n",
    "        else:\n",
    "            print('The ticket queue is empty.')\n",
    "            return None\n",
    "            \n",
    "    def show_queue(self):\n",
    "        if self.is_empty():\n",
    "            print('The ticket queue is empty.')\n",
    "        else:\n",
    "            print('Current ticket queue:')\n",
    "            for client in self.queue:\n",
    "                print(f'- {client}')\n",
    "\n",
    "    def remove_client(self, client_name):\n",
    "        try:\n",
    "            self.queue.remove(client_name)\n",
    "            print(f'Client {client_name} removed from the ticket queue.')\n",
    "        except ValueError:\n",
    "            print(f'Client {client_name} not found in the queue.')\n",
    "    \n",
    "    def is_empty(self):\n",
    "        return len(self.queue) == 0\n",
    "\n",
    "    def front(self): \n",
    "        if self.queue:\n",
    "            return self.queue[0]\n",
    "        return None\n",
    "\n",
    "    def get_all_clients(self):\n",
    "        return list(self.queue)  \n",
    "        \n",
    "#THEATER CLASS\n",
    "class Theater(Agent):   \n",
    "    def __init__(self, name):\n",
    "        super().__init__(name)\n",
    "        self.shows = {}\n",
    "        self.ticket_queue = TicketQueue()  \n",
    "        self.reservations = {}  \n",
    "        self.visitors = {}  \n",
    "\n",
    "    def add_show(self, show_name, details=\"\"):\n",
    "        self.shows[show_name] = details\n",
    "        print(f\"Show '{show_name}' added to {self.name}.\")\n",
    "\n",
    "    def remove_show(self, show_name):\n",
    "        if show_name in self.shows:\n",
    "            if self.shows[show_name]['visitors']:\n",
    "                print(f\"Cannot remove show '{show_name}'. There are clients watching it.\")\n",
    "            else:\n",
    "                del self.shows[show_name]\n",
    "                print(f\"Show '{show_name}' removed from {self.name}.\")\n",
    "        else:\n",
    "            print(f\"Show '{show_name}' does not exist in {self.name}.\")\n",
    "\n",
    "    def leave_show(self, client_name, show_name):\n",
    "        if show_name in self.shows and client_name in self.shows[show_name]['visitors']:\n",
    "            self.shows[show_name]['visitors'].remove(client_name)\n",
    "            print(f'Client {client_name} left the show \"{show_name}\" in theater {self.name}.')\n",
    "        else:\n",
    "            print(f'Client {client_name} is not viewing show \"{show_name}\" in theater {self.name}.')\n",
    "    \n",
    "    def reserve_ticket(self, client_name, show_name):\n",
    "        if show_name in self.shows:\n",
    "            if self.ticket_queue.get_all_clients():  \n",
    "                if client_name in self.ticket_queue.get_all_clients():\n",
    "                    print(f\"Client {client_name} already has a reservation for show '{show_name}'.\")\n",
    "                    return  \n",
    "            self.ticket_queue.enqueue(client_name)  \n",
    "            if show_name not in self.reservations:\n",
    "                self.reservations[show_name] = []\n",
    "            self.reservations[show_name].append(client_name) \n",
    "            print(f'Client {client_name} reserved a ticket for show \"{show_name}\".')\n",
    "        else:\n",
    "            print(f'Show {show_name} not found in {self.name}.')\n",
    "            \n",
    "    def cancel_reservation(self, client_name, show_name):\n",
    "        if show_name in self.shows:\n",
    "            if client_name in self.ticket_queue.get_all_clients():\n",
    "                self.ticket_queue.remove_client(client_name)  \n",
    "                if show_name not in self.visitors:\n",
    "                    print(f\"No reservations found for client {client_name} for show '{show_name}'.\")\n",
    "                    return\n",
    "                if client_name in self.visitors[show_name]:\n",
    "                    self.visitors[show_name].remove(client_name) \n",
    "                    print(f\"Reservation for client {client_name} for show '{show_name}' cancelled.\")\n",
    "                else:\n",
    "                    print(f\"No reservation found for client {client_name} for show '{show_name}'.\")\n",
    "            else:\n",
    "                print(f\"Client {client_name} not found in ticket queue.\")\n",
    "        else:\n",
    "            print(f\"Show '{show_name}' not found in theater {self.name}.\")\n",
    "    \n",
    "    def show_ticket_queue(self):\n",
    "        self.ticket_queue.show_queue()\n",
    "\n",
    "    \n",
    "    def has_revervation(self, client_name):\n",
    "        return client_name in self.ticket_queue.get_all_clients()\n",
    "   \n",
    "    def buy_ticket(self, client_name):\n",
    "        if not self.ticket_queue.is_empty() and self.ticket_queue.front() == client_name:\n",
    "            self.ticket_queue.dequeue()\n",
    "            print(f'Client {client_name} bought a ticket.')\n",
    "            \n",
    "            for show_name in self.reservations.keys():\n",
    "                if client_name in self.reservations[show_name]:\n",
    "                    if show_name not in self.visitors:\n",
    "                        self.visitors[show_name] = []\n",
    "                    self.visitors[show_name].append(client_name)\n",
    "                    print(f'Client {client_name} is now viewing the show \"{show_name}\".')\n",
    "            return\n",
    "        else:\n",
    "            print(f'Client {client_name} is not at the front of the queue. Cannot buy ticket.')\n",
    "\n",
    "    def go_to_show(self, client_name, show_name):\n",
    "        if show_name not in self.shows:\n",
    "            print(f'Show \"{show_name}\" not found in {self.name}.')\n",
    "            return\n",
    "\n",
    "        if show_name in self.reservations and client_name in self.reservations[show_name]:\n",
    "            if client_name not in self.visitors.get(show_name, []):\n",
    "                print(f'Client {client_name} entered the show \"{show_name}\" in {self.name}.')\n",
    "                self.visitors.setdefault(show_name, []).append(client_name) \n",
    "                if client_name in self.ticket_queue.get_all_clients():\n",
    "                    self.ticket_queue.dequeue() \n",
    "            else:\n",
    "                print(f'Client {client_name} is already in the show \"{show_name}\".')\n",
    "        else:\n",
    "            print(f'Client {client_name} cannot enter the show \"{show_name}\". Please ensure you have a ticket.')"
   ]
  },
  {
   "cell_type": "markdown",
   "id": "3e1f3f58-18b4-49ca-9083-b078c1c17e87",
   "metadata": {},
   "source": [
    "### City simulation"
   ]
  },
  {
   "cell_type": "code",
   "execution_count": 10,
   "id": "eb6645ac-3a38-4a1f-98cd-ef641b8fbe35",
   "metadata": {},
   "outputs": [],
   "source": [
    "import time\n",
    "\n",
    "class CitySimulation:\n",
    "    def __init__(self):       \n",
    "        self.agents = {}\n",
    "\n",
    "    def show_theaters(self):\n",
    "        if not self.agents:\n",
    "            print(\"No theaters available.\")\n",
    "            return\n",
    "        print(\"Available theaters and their shows:\")\n",
    "        for theater_name, theater in self.agents.items():\n",
    "            if isinstance(theater, Theater):\n",
    "                print(f\"{theater_name}: {list(theater.shows.keys())}\")  \n",
    "    \n",
    "    def add_agent(self, agent_type, agent_name):    \n",
    "        if agent_type == 'client':\n",
    "            self.agents[agent_name] = Client(agent_name)\n",
    "            print(f'Client {agent_name} added.')           \n",
    "        elif agent_type == 'town_hall':\n",
    "            self.agents[agent_name] = TownHall(agent_name)\n",
    "            print(f'Town Hall {agent_name} added.')            \n",
    "        elif agent_type == 'theater':\n",
    "            self.agents[agent_name] = Theater(agent_name)\n",
    "            print(f'Theater \"{agent_name}\" added.')           \n",
    "        else:\n",
    "            print(f\"Unknown agent type: {agent_type}\")\n",
    "        \n",
    "    def remove_agent(self, agent_name):\n",
    "        if agent_name in self.agents:\n",
    "            del self.agents[agent_name]\n",
    "            print(f'Agent {agent_name} removed from the system.')\n",
    "        else:\n",
    "            print(f'Agent {agent_name} not found.')\n",
    "\n",
    "    def remove_theater(self, theater_name):\n",
    "        if theater_name in self.agents and isinstance(self.agents[theater_name], Theater):\n",
    "            del self.agents[theater_name]\n",
    "            print(f'Theater \"{theater_name}\" removed from the system.')\n",
    "        else:\n",
    "            print(f'Theater \"{theater_name}\" not found or is not a theater.')\n",
    "\n",
    "    def list_agents(self):\n",
    "        print(\"Current agents:\")\n",
    "        for agent in agents.values():\n",
    "            print(agent.describe())\n",
    "\n",
    "    def help(self):\n",
    "        print('''Available commands:\n",
    "            - For Clients/Theaters commands type \"help_theater\"\n",
    "            - For Clients/Shows commands type \"help_shows\"\n",
    "            - For exit program type 'q'\n",
    "            ''')\n",
    "        \n",
    "\n",
    "    def help_theater(self):\n",
    "        print(\"\"\"\n",
    "            Available commands for clients/theater help:\n",
    "            - theater add <theater name> : for creating a new Theater         \n",
    "            - theater show_all_theater : a list of theaters on the system\n",
    "            - client enter <client_name> <theater_name> : enter to a Theater\n",
    "            - client leave <client_name> <theater_name> : leave the Theater\n",
    "            \"\"\")\n",
    "\n",
    "    def help_shows(self):\n",
    "        print(\"\"\"\n",
    "            Available commands for client/show help:\n",
    "            - theater add_show <theater_name> <show_name> : for creating a new show in the theater\n",
    "            - client go_to_show <client_name> <show_name> : go to a show    \n",
    "            - client make_revervation <client_name> <theater_name> <show_name> : made a reservation for a show\n",
    "            - client buy_ticket <client_name> <theater_name> <show_name> : buy the ticket after the reservation and see the show\n",
    "            - client cancel_revervation <client_name> <theater_name> <show_name> : cancel reservation for a show\n",
    "            - theater show_queue <theater_name> : to see the queue in the theater\n",
    "            \"\"\")\n",
    "    \n",
    "    def command_loop(self):\n",
    "        time.sleep(0.5)\n",
    "        print('Starting program...')\n",
    "        time.sleep(1)\n",
    "        self.help()\n",
    "        while True:\n",
    "            command = input('> ')\n",
    "            if command == 'q':\n",
    "                docs = '...'\n",
    "                for i in docs:\n",
    "                    print(i)\n",
    "                    time.sleep(0.5)\n",
    "                print(\"Ending program :)\")\n",
    "                break\n",
    "            self.process_command(command)\n",
    "\n",
    "    def process_command(self, command):\n",
    "        parts = command.split()\n",
    "        if not parts:\n",
    "            return\n",
    "        \n",
    "        cmd = parts[0]      \n",
    "        \n",
    "        if cmd == 'help':\n",
    "            pass     \n",
    "        if cmd == 'help_theater':\n",
    "            self.help_theater()  \n",
    "            return          \n",
    "        if cmd == 'help_shows':\n",
    "            self.help_shows() \n",
    "            return        \n",
    "                    \n",
    "        if cmd == 'client':\n",
    "            if len(parts) <= 2:\n",
    "                print(\"Error: Incomplete command for client.\")\n",
    "                return\n",
    "            if parts[1] == 'add':\n",
    "                client_name = parts[2]\n",
    "                if client_name not in self.agents:\n",
    "                    self.agents[client_name] = Client(client_name)\n",
    "                    print(f'Client {client_name} added.')\n",
    "                else:\n",
    "                    print(f'Client {client_name} already exists.')\n",
    "            \n",
    "            if parts[1] == 'leave_show':\n",
    "                try:\n",
    "                    client_name = parts[2]\n",
    "                    theater_name = parts[3]\n",
    "                    show_name = parts[4]\n",
    "                    if client_name in self.agents and isinstance(self.agents[client_name], Client):\n",
    "                        if theater_name in self.agents and isinstance(self.agents[theater_name], Theater):\n",
    "                            self.agents[theater_name].leave_show(client_name, show_name)\n",
    "                        else:\n",
    "                            print(f'Theater {theater_name} not found.')\n",
    "                    else:\n",
    "                        print(f'Client {client_name} not found.')\n",
    "                except IndexError:\n",
    "                    print(\"Error: Invalid leave_show command format. Use 'client leave_show <client_name> <theater_name> <show_name>'\")\n",
    "                    \n",
    "            elif parts[1] == 'make_reservation':\n",
    "                try:\n",
    "                    client_name = parts[2]  \n",
    "                    theater_name = parts[3]  \n",
    "                    show_name = parts[4] \n",
    "\n",
    "                    if client_name not in self.agents or not isinstance(self.agents[client_name], Client):\n",
    "                        print(f'Client {client_name} not found.')\n",
    "                        return\n",
    "\n",
    "                    if theater_name not in self.agents or not isinstance(self.agents[theater_name], Theater):\n",
    "                        print(f'Theater {theater_name} not found.') \n",
    "                        return\n",
    "\n",
    "                    theater = self.agents[theater_name]\n",
    "        \n",
    "                    if show_name not in theater.shows:\n",
    "                        print(f'Show {show_name} not found in theater {theater_name}.')\n",
    "                        return \n",
    "                                                 \n",
    "                    theater.reserve_ticket(client_name, show_name)\n",
    "\n",
    "                except IndexError:\n",
    "                    print(\"Error: Invalid make_reservation command format. Use 'client make_reservation <client_name> <theater_name> <show_name>'\")  # Mensaje de error\n",
    "                    \n",
    "            elif parts[1] == 'cancel_reservation':\n",
    "                try:\n",
    "                    client_name = parts[2]\n",
    "                    theater_name = parts[3]\n",
    "                    show_name = parts[4]\n",
    "\n",
    "                    if client_name not in self.agents or not isinstance(self.agents[client_name], Client):\n",
    "                        print(f'Client {client_name} not found.')\n",
    "                        return\n",
    "\n",
    "                    if theater_name not in self.agents or not isinstance(self.agents[theater_name], Theater):\n",
    "                        print(f'Theater {theater_name} not found.')\n",
    "                        return\n",
    "\n",
    "                    theater = self.agents[theater_name]\n",
    "                    theater.cancel_reservation(client_name, show_name)\n",
    "\n",
    "                except IndexError:\n",
    "                    print(\"Error: Invalid cancel_reservation command format. Use 'client cancel_reservation <client_name> <theater_name> <show_name>'\")\n",
    "\n",
    "            elif parts[1] == 'buy_ticket':   \n",
    "                try:\n",
    "                    client_name = parts[2]  \n",
    "                    theater_name = parts[3] \n",
    "                    \n",
    "                    if client_name not in self.agents or not isinstance(self.agents[client_name], Client):\n",
    "                        print(f'Client {client_name} not found.')\n",
    "                        return\n",
    "                    if theater_name not in self.agents or not isinstance(self.agents[theater_name], Theater):\n",
    "                        print(f'Theater {theater_name} not found.')\n",
    "                        return\n",
    "\n",
    "                    self.agents[theater_name].buy_ticket(client_name)\n",
    "\n",
    "                except IndexError:\n",
    "                    print(\"Error: Invalid buy_ticket command format. Use 'client buy_ticket <client_name> <theater_name> <show_name>'\")\n",
    "                        \n",
    "            elif parts[1] == 'enter': \n",
    "                try:\n",
    "                    client_name = parts[2]\n",
    "                    theater_name = parts[3]\n",
    "                    if client_name in self.agents and isinstance(self.agents[client_name], Client):\n",
    "                        if theater_name in self.agents and isinstance(self.agents[theater_name], Theater):\n",
    "                            print(f'Client {client_name} entered the theater {theater_name}.')\n",
    "                        else:\n",
    "                            print(f'Theater {theater_name} not found.')\n",
    "                    else:\n",
    "                        print(f'Client {client_name} not found.')\n",
    "                except IndexError:\n",
    "                    print(\"Error: Invalid enter command format. Use 'client enter <client_name> <theater_name>'\") \n",
    "                              \n",
    "            elif parts[1] == 'go_to_show':\n",
    "                try:\n",
    "                    client_name = parts[2]  \n",
    "                    theater_name = parts[3]  \n",
    "                    show_name = parts[4]  \n",
    "\n",
    "                    \n",
    "                    if client_name not in self.agents or not isinstance(self.agents[client_name], Client):\n",
    "                        print(f'Client {client_name} not found.')\n",
    "                        return\n",
    "\n",
    "                    if theater_name not in self.agents or not isinstance(self.agents[theater_name], Theater):\n",
    "                        print(f'Theater {theater_name} not found.') \n",
    "                        return\n",
    "\n",
    "                    theater = self.agents[theater_name]\n",
    "        \n",
    "                    if show_name not in theater.shows:\n",
    "                        print(f'Show \"{show_name}\" not found in theater {theater_name}.')\n",
    "                        return \n",
    "                     \n",
    "                    if (client_name in theater.ticket_queue.get_all_clients() or\n",
    "                        (show_name in theater.visitors and client_name in theater.visitors[show_name])):\n",
    "                            theater.go_to_show(client_name, show_name)\n",
    "                        \n",
    "                    else:\n",
    "                        print(f'Client {client_name} does not have a ticket for show \"{show_name}\".')\n",
    "\n",
    "                except IndexError:\n",
    "                    print(\"Error: Invalid go_to_show command format. Use 'client go_to_show <client_name> <theater_name> <show_name>'\")  # Mensaje de error\n",
    "\n",
    "            elif parts[1] == 'leave': \n",
    "                try:\n",
    "                    client_name = parts[2]\n",
    "                    theater_name = parts[3]\n",
    "                    if client_name in self.agents and isinstance(self.agents[client_name], Client):\n",
    "                        print(f'Client {client_name} left the theater {theater_name}')\n",
    "                    else:\n",
    "                        print(f'Client {client_name} not found.')\n",
    "                except IndexError:\n",
    "                    print(\"Error: Invalid enter command format. Use 'client leave <client_name> <theater_name>'\")\n",
    "\n",
    "            elif parts[1] == 'leave_show':\n",
    "                try:\n",
    "                    client_name = parts[2]\n",
    "                    theater_name = parts[3]\n",
    "                    show_name = parts[4]\n",
    "                    if client_name in self.agents and isinstance(self.agents[client_name], Client):\n",
    "                        print(f'Client {client_name} left the show {show_name} in theater {theater_name}.')\n",
    "                    else:\n",
    "                        print(f'Client {client_name} not found')\n",
    "                except IndexError:\n",
    "                    print(\"Error: Invalid leave_show command format. Use 'client leave_show <client_name> <theater_name> <show_name>'\")      \n",
    "            \n",
    "        if cmd == 'theater':\n",
    "            if parts[1] == 'add':\n",
    "                theater_name = parts[2]\n",
    "                if theater_name not in self.agents:\n",
    "                    self.add_agent('theater', theater_name)\n",
    "                else:\n",
    "                    print(f'Theater {theater_name} already exists.')\n",
    "\n",
    "            if parts[1] == 'remove_theater':\n",
    "                try:\n",
    "                    theater_name = parts[2]\n",
    "                    self.remove_theater(theater_name)\n",
    "                except IndexError:\n",
    "                    print(\"Error: Invalid remove_theater command format. Use 'theater remove_theater <theater_name>'\")\n",
    "                    \n",
    "            elif parts[1] == 'show_queue':\n",
    "                try:\n",
    "                    theater_name = parts[2]  \n",
    "                    if theater_name in self.agents and isinstance(self.agents[theater_name], Theater):\n",
    "                        self.agents[theater_name].show_ticket_queue() \n",
    "                    else:\n",
    "                        print(f'Theater {theater_name} not found.')\n",
    "                except IndexError:\n",
    "                    print(\"Error: Invalid show_queue command format. Use 'theater show_queue <theater_name>'\")\n",
    "\n",
    "            elif parts[1] == 'show_all_theater':\n",
    "                theaters = [agent for agent in self.agents.values() if isinstance(agent, Theater)]\n",
    "                if not theaters:\n",
    "                    print('No theaters available.')\n",
    "                else:\n",
    "                    print('Current theaters:')\n",
    "                    for name, agent in self.agents.items():\n",
    "                        if isinstance(agent, Theater):\n",
    "                            print(f\"- {name}\")\n",
    "                            if agent.shows:\n",
    "                                for show in agent.shows:\n",
    "                                    print(f\"   * Show: {show}\")\n",
    "                            else:\n",
    "                                print(\"No shows available.\")\n",
    "                    \n",
    "            elif parts[1] == 'add_show':\n",
    "                try:\n",
    "                    theater_name = parts[2]\n",
    "                    show_name = parts[3]  \n",
    "                    if theater_name in self.agents and isinstance(self.agents[theater_name], Theater):\n",
    "                        self.agents[theater_name].add_show(show_name)\n",
    "                    else:\n",
    "                        print(f'Theater {theater_name} not found.')\n",
    "                except IndexError:\n",
    "                    print(\"Error: Invalid add_show command format. Use 'theater add_show <theater_name> <show_name>'\")"
   ]
  },
  {
   "cell_type": "markdown",
   "id": "c1c973e5-350b-4e33-b7b1-4bb302c0b977",
   "metadata": {},
   "source": [
    "## Main program"
   ]
  },
  {
   "cell_type": "code",
   "execution_count": 12,
   "id": "0cc17305-c9ba-4759-a088-e6e8895d3a11",
   "metadata": {},
   "outputs": [
    {
     "name": "stdout",
     "output_type": "stream",
     "text": [
      "Starting program...\n",
      "Available commands:\n",
      "            - For Clients/Theaters commands type \"help_theater\"\n",
      "            - For Clients/Shows commands type \"help_shows\"\n",
      "            - For exit program type 'q'\n",
      "            \n"
     ]
    },
    {
     "name": "stdin",
     "output_type": "stream",
     "text": [
      ">  client add Michael\n"
     ]
    },
    {
     "name": "stdout",
     "output_type": "stream",
     "text": [
      "Client Michael added.\n"
     ]
    },
    {
     "name": "stdin",
     "output_type": "stream",
     "text": [
      ">  client add Jesus\n"
     ]
    },
    {
     "name": "stdout",
     "output_type": "stream",
     "text": [
      "Client Jesus added.\n"
     ]
    },
    {
     "name": "stdin",
     "output_type": "stream",
     "text": [
      ">  theater add Teatro_Real\n"
     ]
    },
    {
     "name": "stdout",
     "output_type": "stream",
     "text": [
      "Theater \"Teatro_Real\" added.\n"
     ]
    },
    {
     "name": "stdin",
     "output_type": "stream",
     "text": [
      ">  theater add Teatro_de_Madrid\n"
     ]
    },
    {
     "name": "stdout",
     "output_type": "stream",
     "text": [
      "Theater \"Teatro_de_Madrid\" added.\n"
     ]
    },
    {
     "name": "stdin",
     "output_type": "stream",
     "text": [
      ">  theater add_show Teatro_Real Hamilton\n"
     ]
    },
    {
     "name": "stdout",
     "output_type": "stream",
     "text": [
      "Show 'Hamilton' added to Teatro_Real.\n"
     ]
    },
    {
     "name": "stdin",
     "output_type": "stream",
     "text": [
      ">  theater add_show Teatro_Real StandUp\n"
     ]
    },
    {
     "name": "stdout",
     "output_type": "stream",
     "text": [
      "Show 'StandUp' added to Teatro_Real.\n"
     ]
    },
    {
     "name": "stdin",
     "output_type": "stream",
     "text": [
      ">  theater show_all_theater\n"
     ]
    },
    {
     "name": "stdout",
     "output_type": "stream",
     "text": [
      "Current theaters:\n",
      "- Teatro_Real\n",
      "   * Show: Hamilton\n",
      "   * Show: StandUp\n",
      "- Teatro_de_Madrid\n",
      "No shows available.\n"
     ]
    },
    {
     "name": "stdin",
     "output_type": "stream",
     "text": [
      ">  theater add_show Teatro_de_Madrid My_show\n"
     ]
    },
    {
     "name": "stdout",
     "output_type": "stream",
     "text": [
      "Show 'My_show' added to Teatro_de_Madrid.\n"
     ]
    },
    {
     "name": "stdin",
     "output_type": "stream",
     "text": [
      ">  theater add_show Teatro_de_Madrid Musical\n"
     ]
    },
    {
     "name": "stdout",
     "output_type": "stream",
     "text": [
      "Show 'Musical' added to Teatro_de_Madrid.\n"
     ]
    },
    {
     "name": "stdin",
     "output_type": "stream",
     "text": [
      ">  theater show_all_theater\n"
     ]
    },
    {
     "name": "stdout",
     "output_type": "stream",
     "text": [
      "Current theaters:\n",
      "- Teatro_Real\n",
      "   * Show: Hamilton\n",
      "   * Show: StandUp\n",
      "- Teatro_de_Madrid\n",
      "   * Show: My_show\n",
      "   * Show: Musical\n"
     ]
    },
    {
     "name": "stdin",
     "output_type": "stream",
     "text": [
      ">  client make_reservation Michael Teatro_Real Hamilton\n"
     ]
    },
    {
     "name": "stdout",
     "output_type": "stream",
     "text": [
      "Client Michael added to the ticket queue.\n",
      "Client Michael reserved a ticket for show \"Hamilton\".\n"
     ]
    },
    {
     "name": "stdin",
     "output_type": "stream",
     "text": [
      ">  client cancel_reservation Teatro_Real Hamilton\n"
     ]
    },
    {
     "name": "stdout",
     "output_type": "stream",
     "text": [
      "Error: Invalid cancel_reservation command format. Use 'client cancel_reservation <client_name> <theater_name> <show_name>'\n"
     ]
    },
    {
     "name": "stdin",
     "output_type": "stream",
     "text": [
      ">  client cancel_reservation Michael Teatro_Real Hamilton\n"
     ]
    },
    {
     "name": "stdout",
     "output_type": "stream",
     "text": [
      "Client Michael removed from the ticket queue.\n",
      "No reservations found for client Michael for show 'Hamilton'.\n"
     ]
    },
    {
     "name": "stdin",
     "output_type": "stream",
     "text": [
      ">  client make_reservation Michael Teatro_Real Hamilton\n"
     ]
    },
    {
     "name": "stdout",
     "output_type": "stream",
     "text": [
      "Client Michael added to the ticket queue.\n",
      "Client Michael reserved a ticket for show \"Hamilton\".\n"
     ]
    },
    {
     "name": "stdin",
     "output_type": "stream",
     "text": [
      ">  client make_reservation Jesus Teatro_Real Hamilton\n"
     ]
    },
    {
     "name": "stdout",
     "output_type": "stream",
     "text": [
      "Client Jesus added to the ticket queue.\n",
      "Client Jesus reserved a ticket for show \"Hamilton\".\n"
     ]
    },
    {
     "name": "stdin",
     "output_type": "stream",
     "text": [
      ">  theater show_queue Teatro_Real\n"
     ]
    },
    {
     "name": "stdout",
     "output_type": "stream",
     "text": [
      "Current ticket queue:\n",
      "- Michael\n",
      "- Jesus\n"
     ]
    },
    {
     "name": "stdin",
     "output_type": "stream",
     "text": [
      ">  client buy_ticket Jesus Teatro_Real Hamilton\n"
     ]
    },
    {
     "name": "stdout",
     "output_type": "stream",
     "text": [
      "Client Jesus is not at the front of the queue. Cannot buy ticket.\n"
     ]
    },
    {
     "name": "stdin",
     "output_type": "stream",
     "text": [
      ">  client buy_ticket Michael Teatro_Real Hamilton\n"
     ]
    },
    {
     "name": "stdout",
     "output_type": "stream",
     "text": [
      "Client Michael removed from the ticket queue.\n",
      "Client Michael bought a ticket.\n",
      "Client Michael is now viewing the show \"Hamilton\".\n"
     ]
    },
    {
     "name": "stdin",
     "output_type": "stream",
     "text": [
      ">  client buy_ticket Jesus Teatro_Real Hamilton\n"
     ]
    },
    {
     "name": "stdout",
     "output_type": "stream",
     "text": [
      "Client Jesus removed from the ticket queue.\n",
      "Client Jesus bought a ticket.\n",
      "Client Jesus is now viewing the show \"Hamilton\".\n"
     ]
    },
    {
     "name": "stdin",
     "output_type": "stream",
     "text": [
      ">  client leave Michael Hamilton\n"
     ]
    },
    {
     "name": "stdout",
     "output_type": "stream",
     "text": [
      "Client Michael left the theater Hamilton\n"
     ]
    },
    {
     "name": "stdin",
     "output_type": "stream",
     "text": [
      ">  client leave Jesus Hamilton\n"
     ]
    },
    {
     "name": "stdout",
     "output_type": "stream",
     "text": [
      "Client Jesus left the theater Hamilton\n"
     ]
    },
    {
     "name": "stdin",
     "output_type": "stream",
     "text": [
      ">  theater remove_theater Teatro_Real\n"
     ]
    },
    {
     "name": "stdout",
     "output_type": "stream",
     "text": [
      "Theater \"Teatro_Real\" removed from the system.\n"
     ]
    },
    {
     "name": "stdin",
     "output_type": "stream",
     "text": [
      ">  theater show_all_theater\n"
     ]
    },
    {
     "name": "stdout",
     "output_type": "stream",
     "text": [
      "Current theaters:\n",
      "- Teatro_de_Madrid\n",
      "   * Show: My_show\n",
      "   * Show: Musical\n"
     ]
    },
    {
     "name": "stdin",
     "output_type": "stream",
     "text": [
      ">  q\n"
     ]
    },
    {
     "name": "stdout",
     "output_type": "stream",
     "text": [
      ".\n",
      ".\n",
      ".\n",
      "Ending program :)\n"
     ]
    }
   ],
   "source": [
    "if __name__ == \"__main__\":\n",
    "    simulation = CitySimulation()\n",
    "    simulation.command_loop()"
   ]
  },
  {
   "cell_type": "code",
   "execution_count": null,
   "id": "f4bd421d-ac5a-4fcf-a585-59678c5d9e50",
   "metadata": {},
   "outputs": [],
   "source": []
  },
  {
   "cell_type": "code",
   "execution_count": null,
   "id": "eaf75b80-5da6-4c60-ae11-50687a0f0fdb",
   "metadata": {},
   "outputs": [],
   "source": []
  }
 ],
 "metadata": {
  "kernelspec": {
   "display_name": "Python 3 (ipykernel)",
   "language": "python",
   "name": "python3"
  },
  "language_info": {
   "codemirror_mode": {
    "name": "ipython",
    "version": 3
   },
   "file_extension": ".py",
   "mimetype": "text/x-python",
   "name": "python",
   "nbconvert_exporter": "python",
   "pygments_lexer": "ipython3",
   "version": "3.12.4"
  }
 },
 "nbformat": 4,
 "nbformat_minor": 5
}
